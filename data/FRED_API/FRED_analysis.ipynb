{
 "cells": [
  {
   "cell_type": "code",
   "execution_count": 3,
   "metadata": {},
   "outputs": [],
   "source": [
    "#data analysis for the FRED API"
   ]
  },
  {
   "cell_type": "code",
   "execution_count": 4,
   "metadata": {},
   "outputs": [
    {
     "name": "stdout",
     "output_type": "stream",
     "text": [
      "Requirement already satisfied: requests in /Library/Frameworks/Python.framework/Versions/3.12/lib/python3.12/site-packages (2.32.3)\n",
      "Requirement already satisfied: pandas in /Library/Frameworks/Python.framework/Versions/3.12/lib/python3.12/site-packages (2.2.3)\n",
      "Requirement already satisfied: charset-normalizer<4,>=2 in /Library/Frameworks/Python.framework/Versions/3.12/lib/python3.12/site-packages (from requests) (3.4.1)\n",
      "Requirement already satisfied: idna<4,>=2.5 in /Library/Frameworks/Python.framework/Versions/3.12/lib/python3.12/site-packages (from requests) (3.10)\n",
      "Requirement already satisfied: urllib3<3,>=1.21.1 in /Library/Frameworks/Python.framework/Versions/3.12/lib/python3.12/site-packages (from requests) (2.3.0)\n",
      "Requirement already satisfied: certifi>=2017.4.17 in /Library/Frameworks/Python.framework/Versions/3.12/lib/python3.12/site-packages (from requests) (2025.1.31)\n",
      "Requirement already satisfied: numpy>=1.26.0 in /Library/Frameworks/Python.framework/Versions/3.12/lib/python3.12/site-packages (from pandas) (2.2.4)\n",
      "Requirement already satisfied: python-dateutil>=2.8.2 in /Users/declannagel/Library/Python/3.12/lib/python/site-packages (from pandas) (2.9.0.post0)\n",
      "Requirement already satisfied: pytz>=2020.1 in /Library/Frameworks/Python.framework/Versions/3.12/lib/python3.12/site-packages (from pandas) (2025.2)\n",
      "Requirement already satisfied: tzdata>=2022.7 in /Library/Frameworks/Python.framework/Versions/3.12/lib/python3.12/site-packages (from pandas) (2025.2)\n",
      "Requirement already satisfied: six>=1.5 in /Users/declannagel/Library/Python/3.12/lib/python/site-packages (from python-dateutil>=2.8.2->pandas) (1.17.0)\n",
      "\n",
      "\u001b[1m[\u001b[0m\u001b[34;49mnotice\u001b[0m\u001b[1;39;49m]\u001b[0m\u001b[39;49m A new release of pip is available: \u001b[0m\u001b[31;49m23.2.1\u001b[0m\u001b[39;49m -> \u001b[0m\u001b[32;49m25.0.1\u001b[0m\n",
      "\u001b[1m[\u001b[0m\u001b[34;49mnotice\u001b[0m\u001b[1;39;49m]\u001b[0m\u001b[39;49m To update, run: \u001b[0m\u001b[32;49mpip3 install --upgrade pip\u001b[0m\n",
      "Note: you may need to restart the kernel to use updated packages.\n"
     ]
    }
   ],
   "source": [
    "pip install requests pandas\n"
   ]
  },
  {
   "cell_type": "code",
   "execution_count": 5,
   "metadata": {},
   "outputs": [],
   "source": [
    "import requests\n",
    "import time\n",
    "import pandas as pd "
   ]
  },
  {
   "cell_type": "code",
   "execution_count": 6,
   "metadata": {},
   "outputs": [],
   "source": [
    "api_key = \"b22616cbd7e8b1c6a98f6f5c9669421f\""
   ]
  },
  {
   "cell_type": "code",
   "execution_count": 17,
   "metadata": {},
   "outputs": [],
   "source": [
    "#searching for relevant ids\n",
    "base_url = f\"https://api.stlouisfed.org/fred/series/search\"\n",
    "search_item = \"unemployment\"\n",
    "params = {\n",
    "    \"search_text\": search_item,\n",
    "    \"api_key\": api_key,\n",
    "    \"file_type\": \"json\"\n",
    "}\n",
    "\n",
    "response = requests.get(base_url, params=params)\n",
    "data = response.json()"
   ]
  },
  {
   "cell_type": "code",
   "execution_count": 18,
   "metadata": {},
   "outputs": [
    {
     "name": "stdout",
     "output_type": "stream",
     "text": [
      "1. Unemployment Rate\n",
      "   ID: UNRATE\n",
      "   Frequency: Monthly\n",
      "   Units: Percent\n",
      "\n",
      "2. Unemployment Rate\n",
      "   ID: UNRATENSA\n",
      "   Frequency: Monthly\n",
      "   Units: Percent\n",
      "\n",
      "3. Unemployment Level\n",
      "   ID: UNEMPLOY\n",
      "   Frequency: Monthly\n",
      "   Units: Thousands of Persons\n",
      "\n",
      "4. Noncyclical Rate of Unemployment\n",
      "   ID: NROU\n",
      "   Frequency: Quarterly\n",
      "   Units: Percent\n",
      "\n",
      "5. Continued Claims (Insured Unemployment)\n",
      "   ID: CCSA\n",
      "   Frequency: Weekly, Ending Saturday\n",
      "   Units: Number\n",
      "\n",
      "6. Continued Claims (Insured Unemployment)\n",
      "   ID: CCNSA\n",
      "   Frequency: Weekly, Ending Saturday\n",
      "   Units: Number\n",
      "\n",
      "7. Unemployment Rate - Black or African American\n",
      "   ID: LNS14000006\n",
      "   Frequency: Monthly\n",
      "   Units: Percent\n",
      "\n",
      "8. Unemployment Level\n",
      "   ID: LNU03000000\n",
      "   Frequency: Monthly\n",
      "   Units: Thousands of Persons\n",
      "\n",
      "9. Unemployment Rate - Black or African American\n",
      "   ID: LNU04000006\n",
      "   Frequency: Monthly\n",
      "   Units: Percent\n",
      "\n",
      "10. Total Unemployed, Plus All Persons Marginally Attached to the Labor Force, Plus Total Employed Part Time for Economic Reasons, as a Percent of the Civilian Labor Force Plus All Persons Marginally Attached to the Labor Force (U-6)\n",
      "   ID: U6RATE\n",
      "   Frequency: Monthly\n",
      "   Units: Percent\n",
      "\n",
      "11. Unemployment Rate in California\n",
      "   ID: CAUR\n",
      "   Frequency: Monthly\n",
      "   Units: Percent\n",
      "\n",
      "12. Total Unemployed, Plus All Persons Marginally Attached to the Labor Force, Plus Total Employed Part Time for Economic Reasons, as a Percent of the Civilian Labor Force Plus All Persons Marginally Attached to the Labor Force (U-6)\n",
      "   ID: U6RATENSA\n",
      "   Frequency: Monthly\n",
      "   Units: Percent\n",
      "\n",
      "13. Unemployment Rate in California\n",
      "   ID: LAUST060000000000003A\n",
      "   Frequency: Annual\n",
      "   Units: Percent\n",
      "\n",
      "14. Unemployment Rate in California\n",
      "   ID: CAURN\n",
      "   Frequency: Monthly\n",
      "   Units: Percent\n",
      "\n",
      "15. Natural Rate of Unemployment (Short-Term) (DISCONTINUED)\n",
      "   ID: NROUST\n",
      "   Frequency: Quarterly\n",
      "   Units: Percent\n",
      "\n",
      "16. Unemployment Rate in Texas\n",
      "   ID: TXUR\n",
      "   Frequency: Monthly\n",
      "   Units: Percent\n",
      "\n",
      "17. Unemployment Rate for United States\n",
      "   ID: M0892AUSM156SNBR\n",
      "   Frequency: Monthly\n",
      "   Units: Percent\n",
      "\n",
      "18. Unemployment Rate for United States\n",
      "   ID: Q0892BUSQ156SNBR\n",
      "   Frequency: Quarterly\n",
      "   Units: Percent\n",
      "\n",
      "19. Unemployment Rate - 20 Yrs. & over\n",
      "   ID: LNS14000024\n",
      "   Frequency: Monthly\n",
      "   Units: Percent\n",
      "\n",
      "20. Unemployment Rate - 20 Yrs. & over, Black or African American Men\n",
      "   ID: LNS14000031\n",
      "   Frequency: Monthly\n",
      "   Units: Percent\n",
      "\n"
     ]
    }
   ],
   "source": [
    "for i, series in enumerate(data['seriess'][:20]):\n",
    "    print(f\"{i+1}. {series['title']}\")\n",
    "    print(f\"   ID: {series['id']}\")\n",
    "    print(f\"   Frequency: {series['frequency']}\")\n",
    "    print(f\"   Units: {series['units']}\")\n",
    "    print()"
   ]
  }
 ],
 "metadata": {
  "kernelspec": {
   "display_name": "Python 3",
   "language": "python",
   "name": "python3"
  },
  "language_info": {
   "codemirror_mode": {
    "name": "ipython",
    "version": 3
   },
   "file_extension": ".py",
   "mimetype": "text/x-python",
   "name": "python",
   "nbconvert_exporter": "python",
   "pygments_lexer": "ipython3",
   "version": "3.12.1"
  }
 },
 "nbformat": 4,
 "nbformat_minor": 2
}
